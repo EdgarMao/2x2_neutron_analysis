{
 "cells": [
  {
   "cell_type": "markdown",
   "id": "4f49f7a2-91b5-469f-aeb7-df5d454b0ff6",
   "metadata": {},
   "source": [
    "# AmBe analysis leftover code"
   ]
  },
  {
   "cell_type": "code",
   "execution_count": null,
   "id": "6855a01e-9caa-4b8d-9375-812584bdad39",
   "metadata": {},
   "outputs": [],
   "source": [
    "# Spacial flow to truth selection\n",
    "\n",
    "def flow2truth(h5flow, h5truth):\n",
    "    # Match the flow hit to truth-level particle trajectory\n",
    "    # Assuming that the trajectory of particles are lines\n",
    "    # The output will be a list of file trajectory ids, each representing a truth level trajectory the flow level hit is spacially close to\n",
    "    truth_match = []\n",
    "    truth_match_evt = []\n",
    "    truth_match_vert = []\n",
    "    truth_match_pri = []\n",
    "    tolerance = 0.001  # Spacial search tolerance\n",
    "    for i in h5flow:\n",
    "        #flow_coord.append((h5truth['x'], h5truth['y'], h5truth['z']))\n",
    "        p_flow = np.array([i['x'], i['y'], i['z']])\n",
    "        for j in h5truth:\n",
    "            if np.linalg.norm(np.dot(j['xyz_start']-j['xyz_end'], p_flow-j['xyz_end']))/(np.linalg.norm(j['xyz_start']-j['xyz_end'])*np.linalg.norm(p_flow-j['xyz_end'])) >= 1.0-tolerance:\n",
    "                truth_match.append(j['file_traj_id'])\n",
    "                truth_match_evt.append(j['event_id'])\n",
    "                truth_match_vert.append(j['vertex_id'])\n",
    "                truth_match_pri.append(j['primary'])\n",
    "                break\n",
    "    print(f\"Total number of trajectories in file: {max(h5truth['event_id'])}\")\n",
    "    print(f\"Total number of events in file: {len(np.where(h5truth['primary']==True)[0])}\")\n",
    "    print(f\"Length of file: {len(h5truth)}\")\n",
    "    return truth_match, truth_match_evt, truth_match_vert, truth_match_pri"
   ]
  },
  {
   "cell_type": "code",
   "execution_count": null,
   "id": "5e750e7d-f8a2-4386-8a8c-7a873473b966",
   "metadata": {},
   "outputs": [],
   "source": [
    "# Convert the format of the flow-truth match up data\n",
    "\n",
    "flow2truth_evt = [int(i) for i in flow2truth_evt[0]]\n",
    "flow2truth_vert = [int(i) for i in flow2truth_vert[0]]\n",
    "flow2truth_pri = [int(i) for i in flow2truth_pri[0]]"
   ]
  },
  {
   "cell_type": "code",
   "execution_count": null,
   "id": "ed35c6e9-110a-4160-9c95-3b47dfd00d8a",
   "metadata": {},
   "outputs": [],
   "source": [
    "# Plot a histogram of the event id\n",
    "\n",
    "plt.figure(figsize=(8, 6))\n",
    "plt.hist(flow2truth_evt, color='purple', bins=50)\n",
    "#plt.yscale('log')\n",
    "plt.xlabel('Event ID')\n",
    "plt.ylabel('Hits Count')\n",
    "plt.title(r'Truth Events that Produced Hits')\n",
    "plt.grid(True)\n",
    "#plt.xlim((0,50))\n",
    "plt.show() "
   ]
  },
  {
   "cell_type": "code",
   "execution_count": null,
   "id": "30e0327e-a7ee-41a3-8c4f-a227cf4a530c",
   "metadata": {},
   "outputs": [],
   "source": [
    "# Produce a histogram of hits produced per event\n",
    "\n",
    "# Generate the count first\n",
    "hits_per_evt = [flow2truth_evt.count(i) for i in list(set(flow2truth_evt))]"
   ]
  },
  {
   "cell_type": "code",
   "execution_count": null,
   "id": "a9110187-58a5-48e0-ad5e-da906029fe5c",
   "metadata": {},
   "outputs": [],
   "source": [
    "# Histogram of hits per event\n",
    "\n",
    "plt.figure(figsize=(8, 6))\n",
    "# Plot the hits per event, including the events with zero hits\n",
    "plt.hist(np.append(np.array(hits_per_evt), np.zeros(90-len(hits_per_evt))), color='purple', bins=40)\n",
    "#plt.yscale('log')\n",
    "plt.xlabel('Hits')\n",
    "plt.ylabel('Event Count')\n",
    "plt.title(r'Hits per Event')\n",
    "plt.grid(True)\n",
    "#plt.ylim((0,20))\n",
    "plt.show() "
   ]
  },
  {
   "cell_type": "markdown",
   "id": "b1f7246c-4c28-4955-a54d-bdfc3094c570",
   "metadata": {},
   "source": [
    "## Code for old (spatial) backtracking scheme"
   ]
  },
  {
   "cell_type": "code",
   "execution_count": null,
   "id": "f327f0d0-4bb9-46d9-8d77-ba69e00c6916",
   "metadata": {},
   "outputs": [],
   "source": [
    "# Load AmBe source files\n",
    "# Load all hdf5 files in the directory, output data categories of interest\n",
    "# TODO: some files don't have the light key, figure out why\n",
    "\n",
    "#truth_N_index = []\n",
    "truth_N_multi = []\n",
    "flow_hits = []\n",
    "truth_N_energies = []\n",
    "flow2truth_match = []\n",
    "flow2truth_evt = []\n",
    "flow2truth_vert = []\n",
    "flow2truth_pri = []\n",
    "\n",
    "hits_bt = []\n",
    "\n",
    "for file in glob.iglob('../AmBe_Prod_V2/FLOW/*.hdf5'):\n",
    "    truth_N_index = []\n",
    "    with h5py.File(file, 'r') as h5file:\n",
    "        temp_truth_index = get_index_truth(h5file['mc_truth/trajectories/data'], 2112, True)\n",
    "        truth_N_index.extend(temp_truth_index)\n",
    "        # Try out the new backtracking scheme\n",
    "        # Find all events that have corresponding hits\n",
    "        hits_bt.extend(alltruth2charge(h5file, temp_truth_index, 'calib_prompt_hits'))\n",
    "        #truth_N_multi.extend(get_mutiplicity_truth(h5file['mc_truth/trajectories/data'], truth_N_index))\n",
    "        #truth_N_energies.append(get_energy_truth(h5file['mc_truth/trajectories/data'], truth_N_index))\n",
    "        #print(len(h5file['mc_truth/trajectories/data']))\n",
    "        #temp_match, temp_match_evt, temp_match_vert, temp_match_pri = flow2truth(h5file['charge/calib_prompt_hits/data'], h5file['mc_truth/trajectories/data'])\n",
    "        #flow2truth_match.append(temp_match)\n",
    "        #flow2truth_evt.append(temp_match_evt)\n",
    "        #flow2truth_vert.append(temp_match_vert)\n",
    "        #flow2truth_pri.append(temp_match_pri)\n",
    "        #print(len(flow2truth_match[0]))\n",
    "        #print(len(h5file['charge/calib_prompt_hits/data']['x']))\n",
    "        #break"
   ]
  },
  {
   "cell_type": "code",
   "execution_count": null,
   "id": "24a15bd5-af05-454a-bc93-fe4a65134437",
   "metadata": {},
   "outputs": [],
   "source": [
    "# Histogram of hits per event with new hits finding scheme\n",
    "\n",
    "hitpevt_temp = np.append(np.array([len(i) for i in hits_bt]), np.zeros(90-len(hits_bt)))\n",
    "\n",
    "plt.figure(figsize=(8, 6))\n",
    "# Plot the hits per event, including the events with zero hits\n",
    "plt.hist(hitpevt_temp, color='purple', bins=8)\n",
    "#plt.yscale('log')\n",
    "plt.xlabel('Hits')\n",
    "plt.ylabel('Event Count')\n",
    "plt.title(r'Hits per Event (From Primary Neutron)')\n",
    "plt.grid(True)\n",
    "#plt.ylim((0,20))\n",
    "plt.show()"
   ]
  },
  {
   "cell_type": "code",
   "execution_count": null,
   "id": "6188b00c-77fc-4990-ba16-1834f2e72289",
   "metadata": {},
   "outputs": [],
   "source": [
    "# Energy deposited per event (including the events with zero hits)\n",
    "\n",
    "Epevt_temp = np.append(np.array([sum(i['E']) for i in hits_bt]), np.zeros(90-len(hits_bt)))\n",
    "\n",
    "plt.figure(figsize=(8, 6))\n",
    "plt.hist(Epevt_temp, color='purple', bins=np.linspace(min(Epevt_temp), max(Epevt_temp), 10))\n",
    "#plt.yscale('log')\n",
    "plt.xlabel('MeV')\n",
    "plt.ylabel('Event Count')\n",
    "plt.title(r'Energy Deposited in Detector per Event (From Primary Neutron)')\n",
    "plt.grid(True)\n",
    "#plt.ylim((0,20))\n",
    "plt.show()"
   ]
  },
  {
   "cell_type": "code",
   "execution_count": null,
   "id": "b308f03e-6ef2-4675-9812-a6b355800027",
   "metadata": {},
   "outputs": [],
   "source": [
    "# Plot energy of all hits\n",
    "\n",
    "Ehits_temp = []\n",
    "for i in hits_bt:\n",
    "    Ehits_temp.extend(i['E'])\n",
    "\n",
    "plt.figure(figsize=(8, 6))\n",
    "plt.hist(Ehits_temp, color='purple', bins=np.linspace(min(Ehits_temp), max(Ehits_temp), 20))\n",
    "#plt.yscale('log')\n",
    "plt.xlabel('MeV')\n",
    "plt.ylabel('Hits Count')\n",
    "plt.title(r'Energy per Hit (From Primary Neutron)')\n",
    "plt.grid(True)\n",
    "plt.xlim((0,0.9))\n",
    "plt.show()"
   ]
  },
  {
   "cell_type": "code",
   "execution_count": null,
   "id": "fa551665-e409-4dd1-8129-1e4d56605e13",
   "metadata": {},
   "outputs": [],
   "source": [
    "Epevt_temp = np.append(np.array([sum(i['E']) for i in hits_bt]), np.zeros(90-len(hits_bt)))\n",
    "\n",
    "plt.figure(figsize=(8, 6))\n",
    "plt.hist(Epevt_temp, color='purple', bins=np.linspace(min(Epevt_temp), max(Epevt_temp), 10))\n",
    "#plt.yscale('log')\n",
    "plt.xlabel('MeV')\n",
    "plt.ylabel('Event Count')\n",
    "plt.title(r'Energy Deposited in Detector per Event')\n",
    "plt.grid(True)\n",
    "#plt.ylim((0,20))\n",
    "plt.show()"
   ]
  }
 ],
 "metadata": {
  "kernelspec": {
   "display_name": "Python 3 (ipykernel)",
   "language": "python",
   "name": "python3"
  },
  "language_info": {
   "codemirror_mode": {
    "name": "ipython",
    "version": 3
   },
   "file_extension": ".py",
   "mimetype": "text/x-python",
   "name": "python",
   "nbconvert_exporter": "python",
   "pygments_lexer": "ipython3",
   "version": "3.10.14"
  }
 },
 "nbformat": 4,
 "nbformat_minor": 5
}
